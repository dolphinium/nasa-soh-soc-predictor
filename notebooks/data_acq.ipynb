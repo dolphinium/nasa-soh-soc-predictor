{
 "cells": [
  {
   "cell_type": "markdown",
   "metadata": {},
   "source": [
    "### Ensure necessary libraries are installed"
   ]
  },
  {
   "cell_type": "code",
   "execution_count": 2,
   "metadata": {},
   "outputs": [
    {
     "name": "stdout",
     "output_type": "stream",
     "text": [
      "Note: you may need to restart the kernel to use updated packages.\n"
     ]
    }
   ],
   "source": [
    "%pip install -q scipy requests pathlib numpy"
   ]
  },
  {
   "cell_type": "code",
   "execution_count": 4,
   "metadata": {},
   "outputs": [],
   "source": [
    "import scipy\n",
    "import requests\n",
    "import pathlib\n",
    "import zipfile\n",
    "import os\n",
    "import numpy"
   ]
  },
  {
   "cell_type": "markdown",
   "metadata": {},
   "source": [
    "### Define constants"
   ]
  },
  {
   "cell_type": "code",
   "execution_count": 8,
   "metadata": {},
   "outputs": [],
   "source": [
    "DATA_URL = \"https://phm-datasets.s3.amazonaws.com/NASA/5.+Battery+Data+Set.zip\"\n",
    "ZIP_FILE_NAME = \"NASA_Battery_Data_Set.zip\"\n",
    "DATA_DIR_NAME = \"NASA_Battery_Data\" # Directory to store extracted data\n",
    "TARGET_SUBDIR = \"5. Battery Data Set/1. BatteryAgingARC-FY08Q4\" # Specific subdir within the zip"
   ]
  },
  {
   "cell_type": "code",
   "execution_count": 6,
   "metadata": {},
   "outputs": [
    {
     "name": "stdout",
     "output_type": "stream",
     "text": [
      "Data will be downloaded to: /Users/dolphinium/Desktop/nasa-battery-soh-soc-predictor/notebooks/NASA_Battery_Data_Set.zip\n",
      "Data will be extracted to: /Users/dolphinium/Desktop/nasa-battery-soh-soc-predictor/notebooks/NASA_Battery_Data\n",
      "Target battery files expected in: /Users/dolphinium/Desktop/nasa-battery-soh-soc-predictor/notebooks/NASA_Battery_Data/5. Battery Data Set/1. BatteryAgingARC-FY08Q4\n"
     ]
    }
   ],
   "source": [
    "# Create Path objects for easier handling\n",
    "current_dir = pathlib.Path.cwd().parent # root directory of the project\n",
    "zip_path = current_dir / ZIP_FILE_NAME\n",
    "data_path = current_dir / DATA_DIR_NAME\n",
    "extracted_data_path = data_path / TARGET_SUBDIR\n",
    "\n",
    "print(f\"Data will be downloaded to: {zip_path}\")\n",
    "print(f\"Data will be extracted to: {data_path}\")\n",
    "print(f\"Target battery files expected in: {extracted_data_path}\")"
   ]
  },
  {
   "cell_type": "code",
   "execution_count": 10,
   "metadata": {},
   "outputs": [
    {
     "data": {
      "text/plain": [
       "PosixPath('/Users/dolphinium/Desktop/nasa-battery-soh-soc-predictor/notebooks')"
      ]
     },
     "execution_count": 10,
     "metadata": {},
     "output_type": "execute_result"
    }
   ],
   "source": [
    "current_dir"
   ]
  },
  {
   "cell_type": "code",
   "execution_count": null,
   "metadata": {},
   "outputs": [],
   "source": []
  }
 ],
 "metadata": {
  "kernelspec": {
   "display_name": "nasa",
   "language": "python",
   "name": "python3"
  },
  "language_info": {
   "codemirror_mode": {
    "name": "ipython",
    "version": 3
   },
   "file_extension": ".py",
   "mimetype": "text/x-python",
   "name": "python",
   "nbconvert_exporter": "python",
   "pygments_lexer": "ipython3",
   "version": "3.10.16"
  }
 },
 "nbformat": 4,
 "nbformat_minor": 2
}
